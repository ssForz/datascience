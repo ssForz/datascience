{
 "cells": [
  {
   "cell_type": "markdown",
   "id": "85755de8",
   "metadata": {},
   "source": [
    "# Самостоятельное задание #5\n",
    "\n",
    "\n",
    "### Задание 1\n",
    "\n",
    "Допишите функцию, которая принимает список, выбирает из него все элементы с четным индексом и возвращает их в виде списка."
   ]
  },
  {
   "cell_type": "code",
   "execution_count": 1,
   "id": "6ef6d9b3",
   "metadata": {},
   "outputs": [],
   "source": [
    "\n",
    "def make_list(my_list):\n",
    "\tnew_list = []\n",
    "\tfor i in range (0, len(my_list), 2):\n",
    "\t\tnew_list.append(my_list[i])\n",
    "\treturn new_list\n"
   ]
  },
  {
   "cell_type": "markdown",
   "id": "443974c9",
   "metadata": {},
   "source": [
    "### Задание 2\n",
    "\n",
    "Допишите функцию, которая принимает список, выбирает из него все элементы, которые больше предыдущего и возвращает их в виде списка.\n"
   ]
  },
  {
   "cell_type": "code",
   "execution_count": 2,
   "id": "3a8cf925",
   "metadata": {},
   "outputs": [],
   "source": [
    "\n",
    "def make_list(my_list):\n",
    "\tnew_list = []\n",
    "\tfor i in range (1, len(my_list)):\n",
    "\t\tif my_list[i] > my_list[i-1]:\n",
    "\t\t\tnew_list.append(my_list[i])\n",
    "\treturn new_list\n",
    "\n"
   ]
  },
  {
   "cell_type": "markdown",
   "id": "34524ede",
   "metadata": {},
   "source": [
    "### Задание 3\n",
    "\n",
    "Допишите функцию, которая принимает список, меняет местами наибольший и наименьший элементы и возвращает этот список."
   ]
  },
  {
   "cell_type": "code",
   "execution_count": 3,
   "id": "34d2beae",
   "metadata": {},
   "outputs": [],
   "source": [
    "def make_list(my_list):\n",
    "\tmaxIndex = my_list.index(max(my_list))\n",
    "\tminIndex = my_list.index(min(my_list))\n",
    "\tmy_list[maxIndex], my_list[minIndex] = my_list[minIndex], my_list[maxIndex]\n",
    "\treturn my_list"
   ]
  }
 ],
 "metadata": {
  "kernelspec": {
   "display_name": "Python 3",
   "language": "python",
   "name": "python3"
  },
  "language_info": {
   "codemirror_mode": {
    "name": "ipython",
    "version": 3
   },
   "file_extension": ".py",
   "mimetype": "text/x-python",
   "name": "python",
   "nbconvert_exporter": "python",
   "pygments_lexer": "ipython3",
   "version": "3.9.7"
  }
 },
 "nbformat": 4,
 "nbformat_minor": 5
}
