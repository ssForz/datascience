{
 "cells": [
  {
   "cell_type": "markdown",
   "id": "657be689",
   "metadata": {},
   "source": [
    "# Самостоятельное задание #3\n",
    "\n",
    "\n",
    "### Задание 1\n",
    "\n",
    "Допишите функцию, которая принимает массив из 10 чисел и возвращает их сумму."
   ]
  },
  {
   "cell_type": "code",
   "execution_count": null,
   "id": "18ffcbab",
   "metadata": {},
   "outputs": [],
   "source": [
    "def sum_of_mas(my_array):\n",
    "\tsum = 0\n",
    "\tfor i in my_array:\n",
    "\t\tsum += i\n",
    "\treturn sum\n"
   ]
  },
  {
   "cell_type": "markdown",
   "id": "eb78afc0",
   "metadata": {},
   "source": [
    "\n",
    "### Задание 2\n",
    "\n",
    "Допишите функцию, которая принимает массив чисел и возвращает количество чисел равных нулю."
   ]
  },
  {
   "cell_type": "code",
   "execution_count": null,
   "id": "7e8fe536",
   "metadata": {},
   "outputs": [],
   "source": [
    "def sum_of_mas(my_array):\n",
    "\tcnt = 0\n",
    "\tfor i in my_array:\n",
    "\t\tif i == 0:\n",
    "\t\t\tcnt += 1\n",
    "\treturn cnt"
   ]
  },
  {
   "cell_type": "markdown",
   "id": "570d5a26",
   "metadata": {},
   "source": [
    "\n",
    "### Задание 3\n",
    "\n",
    "Напишите программу, в которой задается  натуральное число n и выводится лестница из n ступенек, i-я ступенька должна состоять из чисел от 1 до i без пробелов."
   ]
  },
  {
   "cell_type": "code",
   "execution_count": null,
   "id": "69fd0501",
   "metadata": {},
   "outputs": [],
   "source": [
    "\n",
    "\n",
    "def print_stair(n):\n",
    "\tfor i in range (1, n+1):\n",
    "\t\tfor j in range (1, i+1):\n",
    "\t\t\tprint(j, end = \"\")\n",
    "\t\tprint()\n",
    "\n",
    "\n",
    "n = int(input())\n",
    "print_stair(n)\n",
    "\n"
   ]
  },
  {
   "cell_type": "markdown",
   "id": "b6ef1c44",
   "metadata": {},
   "source": [
    "\n",
    "### Задание 4\n",
    "\n",
    "Напишите программу, в которой задается натуральное число n и выводится пирамида из n ступенек, i-я ступень должна состоять из чисел от 1 до i и обратно без пробелов."
   ]
  },
  {
   "cell_type": "code",
   "execution_count": null,
   "id": "6b038f87",
   "metadata": {},
   "outputs": [],
   "source": [
    "\n",
    "\n",
    "def print_pyro(n):\n",
    "\tfor i in range (1, n+1):\n",
    "\t\tprint(\" \" * (n - i), end = \"\")\n",
    "\t\tfor j in range (1, i+1):\n",
    "\t\t\tprint(j, end = \"\")\n",
    "\t\tfor j in range (i - 1, 0, -1):\n",
    "\t\t\tprint(j, end = \"\")\n",
    "\t\tprint()\n",
    "\n",
    "\n",
    "n = int(input())\n",
    "print_pyro(n)\n",
    "\n"
   ]
  },
  {
   "cell_type": "markdown",
   "id": "b4552ef5",
   "metadata": {},
   "source": [
    "\n",
    "### Задание 5\n",
    "\n",
    "Напишите программу, в которой задается натуральное число n и выводится ромб из `n*2-1` ступенек, i-я ступень должна состоять из чисел от 1 до i и обратно без пробелов."
   ]
  },
  {
   "cell_type": "code",
   "execution_count": null,
   "id": "5eaae897",
   "metadata": {},
   "outputs": [],
   "source": [
    "\n",
    "\n",
    "def print_romb(n):\n",
    "\tfor i in range (1, n+1):\n",
    "\t\tprint(\" \" * (n - i), end = \"\")\n",
    "\t\tfor j in range (1, i+1):\n",
    "\t\t\tprint(j, end = \"\")\n",
    "\t\tfor j in range (i - 1, 0, -1):\n",
    "\t\t\tprint(j, end = \"\")\n",
    "\t\tprint()\n",
    "\tfor i in range (n - 1, 0, - 1):\n",
    "\t\tprint(\" \" * (n - i), end = \"\")\n",
    "\t\tfor j in range (1, i+1):\n",
    "\t\t\tprint(j, end = \"\")\n",
    "\t\tfor j in range (i - 1, 0, -1):\n",
    "\t\t\tprint(j, end = \"\")\n",
    "\t\tprint()\n",
    "\n",
    "\n",
    "n = int(input())\n",
    "print_romb(n)\n",
    "\n"
   ]
  }
 ],
 "metadata": {
  "kernelspec": {
   "display_name": "Python 3",
   "language": "python",
   "name": "python3"
  },
  "language_info": {
   "codemirror_mode": {
    "name": "ipython",
    "version": 3
   },
   "file_extension": ".py",
   "mimetype": "text/x-python",
   "name": "python",
   "nbconvert_exporter": "python",
   "pygments_lexer": "ipython3",
   "version": "3.9.7"
  }
 },
 "nbformat": 4,
 "nbformat_minor": 5
}
